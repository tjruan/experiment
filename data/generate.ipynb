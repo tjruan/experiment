{
 "cells": [
  {
   "cell_type": "markdown",
   "metadata": {},
   "source": [
    "论文的转移矩阵"
   ]
  },
  {
   "cell_type": "code",
   "execution_count": 1,
   "metadata": {},
   "outputs": [],
   "source": [
    "import pandas as pd\n",
    "import numpy as np\n",
    "import os\n",
    "import random\n",
    "import csv\n",
    "# Define a probabilistic transfer matrix for modeling on/off transfers of appliances,\n",
    "# 0 means off, 1 means on\n",
    "transition_matrix = {'Fridge': np.array([[0.1, 0.9], [0.1, 0.9]]),\n",
    "                     'Dryer': np.array([[0.3, 0.7], [0.15, 0.85]]),\n",
    "                     'WashingMachine': np.array([[0.8, 0.2], [0.4, 0.6]]),\n",
    "                     'Freezer': np.array([[0.9, 0.1], [0.5, 0.5]]),\n",
    "                     'CoffeeMachine': np.array([[0.95, 0.05], [0.9, 0.1]])}\n",
    "\n",
    "app_power = {'Fridge':24, 'Dryer':64, 'WashingMachine':360, 'Freezer':648, 'CoffeeMachine': 2480}\n",
    "app_id = {'Fridge':1, 'Dryer':2, 'WashingMachine':4, 'Freezer':8, 'CoffeeMachine': 16}\n",
    "\n",
    "# Define a function that inputs the appliance number and the current switching state, and returns the switching state for the next moment.\n",
    "def generate_next_status(current_status, equipment_id):\n",
    "    # Use the probability transfer matrix and the current state to randomly generate the next moment of state\n",
    "    next_status = np.random.choice([0, 1], p=transition_matrix[equipment_id][current_status])\n",
    "    return next_status"
   ]
  },
  {
   "cell_type": "code",
   "execution_count": 2,
   "metadata": {},
   "outputs": [],
   "source": [
    "folder_id = 0\n",
    "# Generate csv file containing 1440 rows and 2 columns of data for appliance status and total power\n",
    "app_keys  = list(app_id.keys())\n",
    "save_path = './'\n",
    "for i in range(1):\n",
    "    app_state = {'Fridge':random.choice([0, 1]), 'Dryer':random.choice([0, 1]), 'WashingMachine':random.choice([0, 1]), 'Freezer':random.choice([0, 1]), 'CoffeeMachine':random.choice([0, 1])}\n",
    "    file_name = os.path.join(save_path, 'data_' + str(folder_id) + '.csv')\n",
    "    folder_id += 1\n",
    "    \n",
    "    with open(file_name, 'w', newline='') as csvfile:\n",
    "        writer = csv.writer(csvfile)\n",
    "        for j in range(1440):\n",
    "            all_state = 0\n",
    "            all_power = 0 \n",
    "            for app in app_keys:\n",
    "                if app_state[app] == 1:\n",
    "                    all_state = app_id[app] + all_state\n",
    "                    all_power = app_power[app] + all_power\n",
    "            writer.writerow([all_state,all_power])\n",
    "\n",
    "            for app in app_keys:\n",
    "                next_state = generate_next_status(app_state[app] , app)\n",
    "                app_state[app] = next_state\n",
    "    csvfile.close()"
   ]
  }
 ],
 "metadata": {
  "kernelspec": {
   "display_name": "omnisafecuda",
   "language": "python",
   "name": "python3"
  },
  "language_info": {
   "codemirror_mode": {
    "name": "ipython",
    "version": 3
   },
   "file_extension": ".py",
   "mimetype": "text/x-python",
   "name": "python",
   "nbconvert_exporter": "python",
   "pygments_lexer": "ipython3",
   "version": "3.8.18"
  }
 },
 "nbformat": 4,
 "nbformat_minor": 2
}
